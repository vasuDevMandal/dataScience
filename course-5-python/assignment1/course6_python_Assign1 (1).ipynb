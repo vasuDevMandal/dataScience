{
 "cells": [
  {
   "cell_type": "code",
   "execution_count": 16,
   "id": "20d9ac9c-e782-49d1-9a9e-fd8c5d5519cb",
   "metadata": {},
   "outputs": [
    {
     "name": "stdout",
     "output_type": "stream",
     "text": [
      "578\n"
     ]
    }
   ],
   "source": [
    "# Task 1: Write a Python program to find the largest of three numbers.\n",
    "def largest(x,y,z):\n",
    "    if x > y:\n",
    "        print(x)\n",
    "    elif y > z:\n",
    "        print(y)\n",
    "    else:\n",
    "        print(z)\n",
    "    \n",
    "largest(78,578,9)"
   ]
  },
  {
   "cell_type": "code",
   "execution_count": 10,
   "id": "4508a640-15de-4a6e-9342-ec65156d1d31",
   "metadata": {},
   "outputs": [
    {
     "name": "stdout",
     "output_type": "stream",
     "text": [
      "even\n"
     ]
    }
   ],
   "source": [
    "#Task 2: Create a program that checks if a number is even or odd.\n",
    "def oddEven(num):\n",
    "    if num%2 == 0:\n",
    "        print(\"even\")\n",
    "    else:\n",
    "        print(\"odd\")\n",
    "\n",
    "oddEven(42)"
   ]
  },
  {
   "cell_type": "code",
   "execution_count": 114,
   "id": "d2c0841f-82ce-4d26-9d3b-5d9a300bf6ee",
   "metadata": {},
   "outputs": [
    {
     "name": "stdout",
     "output_type": "stream",
     "text": [
      "1 2 3 4 5 6 8 9 10 11 12 13 15 16 17 18 19 20 22 23 24 25 26 27 29 30 31 32 33 34 36 37 38 39 40 41 43 44 45 46 47 48 50 51 52 53 54 55 57 58 59 60 61 62 64 65 66 67 68 69 71 72 73 74 75 76 78 79 80 81 82 83 85 86 87 88 89 90 92 93 94 95 96 97 99 "
     ]
    }
   ],
   "source": [
    "# Task 3: Write a program that prints numbers from 1 to 100 but skips numbers divisible by 7.\n",
    "def pr100(num):\n",
    "    for x in range(num):\n",
    "        if x%7 == 0:\n",
    "            continue\n",
    "        print(x,end=\" \")\n",
    "pr100(100)\n"
   ]
  },
  {
   "cell_type": "code",
   "execution_count": 1,
   "id": "4bbc011f-e4ae-4042-bf90-62a15b2f1658",
   "metadata": {},
   "outputs": [
    {
     "name": "stdout",
     "output_type": "stream",
     "text": [
      "5 x 1 = 5\n",
      "5 x 2 = 10\n",
      "5 x 3 = 15\n",
      "5 x 4 = 20\n",
      "5 x 5 = 25\n",
      "5 x 6 = 30\n",
      "5 x 7 = 35\n",
      "5 x 8 = 40\n",
      "5 x 9 = 45\n",
      "5 x 10 = 50\n"
     ]
    }
   ],
   "source": [
    "# Task 4: Write a program to print the multiplication table of a given number\n",
    "def myTable(num):\n",
    "    for x in range(1,11):\n",
    "        print(f\"{num} x {x} = {num*x}\")\n",
    "\n",
    "myTable(5)\n",
    "\n"
   ]
  },
  {
   "cell_type": "code",
   "execution_count": 54,
   "id": "cc0bf945-a83d-4965-a3a2-ea72c47dfd99",
   "metadata": {},
   "outputs": [
    {
     "name": "stdout",
     "output_type": "stream",
     "text": [
      "* \n",
      "* * \n",
      "* * * \n",
      "* * * * \n",
      "* * * * * \n"
     ]
    }
   ],
   "source": [
    "# Task 5: Write a program that uses a nested loop to print a right-angled triangle pattern of stars based on user input.\n",
    "\n",
    "def myStars(num):\n",
    "    for x in range(num):\n",
    "        for y in range(num):\n",
    "            if y > x:\n",
    "                continue\n",
    "            print(\"*\", end=\" \")\n",
    "        print()\n",
    "\n",
    "myStars(5)\n",
    "\n",
    "\n"
   ]
  },
  {
   "cell_type": "code",
   "execution_count": 62,
   "id": "822ae2ca-99d4-48e0-acc0-e26c11922955",
   "metadata": {},
   "outputs": [
    {
     "name": "stdout",
     "output_type": "stream",
     "text": [
      "1 \n",
      "1 2 \n",
      "1 2 3 \n",
      "1 2 3 4 \n"
     ]
    }
   ],
   "source": [
    "# Task 6: Create a Python program that prints the following pattern using nested loops:\n",
    "\n",
    "def myNum1(num):\n",
    "    for x in range(1,num):\n",
    "        for y in range(1,num):\n",
    "            if y > x:\n",
    "                continue\n",
    "            print(y, end=\" \")\n",
    "        print()\n",
    "\n",
    "myNum1(5)"
   ]
  },
  {
   "cell_type": "code",
   "execution_count": 70,
   "id": "a1407d94-e672-4643-8838-3e9f4be99ecb",
   "metadata": {},
   "outputs": [
    {
     "name": "stdout",
     "output_type": "stream",
     "text": [
      "r is consonent\n",
      "e is vowel\n"
     ]
    }
   ],
   "source": [
    "# Task 7: Create a Python program to check if a character entered by the user is a vowel or consonant.\n",
    "def isVowel(c):\n",
    "    c = c.lower()\n",
    "    if (c == \"a\" or c == \"e\" or c == \"i\" or c == \"o\" or c == \"u\"):\n",
    "        print(f\"{c} is vowel\")\n",
    "    else:\n",
    "        print(f\"{c} is consonent\")\n",
    "isVowel(\"r\")  \n",
    "isVowel(\"e\")      "
   ]
  },
  {
   "cell_type": "code",
   "execution_count": 90,
   "id": "54ccf5fa-baab-45df-9b74-eb852912190e",
   "metadata": {},
   "outputs": [
    {
     "name": "stdout",
     "output_type": "stream",
     "text": [
      "*\n",
      "***\n",
      "*****\n",
      "*******\n",
      "*********\n",
      "*******\n",
      "*****\n",
      "***\n",
      "*\n"
     ]
    }
   ],
   "source": [
    "# Task 8. Write a Python program that generates a diamond pattern of stars\n",
    "\n",
    "def myDia(num):\n",
    "    for i in range (1 , num+1):\n",
    "        stars = 2 * i - 1\n",
    "        print (\"*\" * stars)\n",
    "        \n",
    "    for j in range (num - 1 , 0 , -1):\n",
    "        stars = 2 * j - 1\n",
    "        print(\"*\" * stars)\n",
    "\n",
    "myDia(5)\n",
    "        "
   ]
  },
  {
   "cell_type": "code",
   "execution_count": 94,
   "id": "9f43f0d1-fcfc-4e82-82d0-b6953b74f627",
   "metadata": {},
   "outputs": [
    {
     "data": {
      "text/plain": [
       "4312"
      ]
     },
     "execution_count": 94,
     "metadata": {},
     "output_type": "execute_result"
    }
   ],
   "source": [
    "# Task 9: Write a Python program to reverse the digits of a given number.\n",
    "def myReverse(num):\n",
    "    reversedNum = 0\n",
    "    while num != 0:\n",
    "        digit = num % 10\n",
    "        reversedNum = reversedNum * 10 + digit\n",
    "        num //= 10\n",
    "    return reversedNum \n",
    "\n",
    "myReverse(2134)"
   ]
  },
  {
   "cell_type": "code",
   "execution_count": 108,
   "id": "e3015f4b-c7af-4e0e-a9ee-0681110391e6",
   "metadata": {},
   "outputs": [
    {
     "name": "stdout",
     "output_type": "stream",
     "text": [
      "1\n",
      "121\n",
      "12321\n",
      "1234321\n"
     ]
    }
   ],
   "source": [
    "# Task 10. Create a Python program that generates the following pyramid pattern:\n",
    "\n",
    "def pyramid(row):\n",
    "    # Generating pattern\n",
    "    for i in range(1,row+1):\n",
    "                \n",
    "        # for increasing pattern\n",
    "        for j in range(1,i+1):\n",
    "            print(j, end='')\n",
    "        \n",
    "        # for decreasing pattern \n",
    "        for j in range(i-1,0,-1):\n",
    "            print(j, end='')\n",
    "        \n",
    "        # Moving to next line\n",
    "        print()\n",
    "\n",
    "pyramid(4)"
   ]
  },
  {
   "cell_type": "code",
   "execution_count": null,
   "id": "757e2339-7200-4e2e-8e94-b053a2fa6893",
   "metadata": {},
   "outputs": [],
   "source": []
  },
  {
   "cell_type": "code",
   "execution_count": null,
   "id": "3ef0b64d-9118-48e0-8f10-995f9a586b45",
   "metadata": {},
   "outputs": [],
   "source": []
  }
 ],
 "metadata": {
  "kernelspec": {
   "display_name": "Python [conda env:base] *",
   "language": "python",
   "name": "conda-base-py"
  },
  "language_info": {
   "codemirror_mode": {
    "name": "ipython",
    "version": 3
   },
   "file_extension": ".py",
   "mimetype": "text/x-python",
   "name": "python",
   "nbconvert_exporter": "python",
   "pygments_lexer": "ipython3",
   "version": "3.12.7"
  }
 },
 "nbformat": 4,
 "nbformat_minor": 5
}
